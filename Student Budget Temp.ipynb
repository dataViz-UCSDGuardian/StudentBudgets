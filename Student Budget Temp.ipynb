{
 "cells": [
  {
   "cell_type": "code",
   "execution_count": 8,
   "metadata": {
    "collapsed": true
   },
   "outputs": [],
   "source": [
    "import pandas as pd\n",
    "import numpy as np\n",
    "import matplotlib.pyplot as plt\n",
    "import bokeh.charts as bk\n",
    "import plotly.plotly as py"
   ]
  },
  {
   "cell_type": "code",
   "execution_count": 12,
   "metadata": {
    "collapsed": false,
    "scrolled": true
   },
   "outputs": [
    {
     "data": {
      "text/html": [
       "<div>\n",
       "<table border=\"1\" class=\"dataframe\">\n",
       "  <thead>\n",
       "    <tr style=\"text-align: right;\">\n",
       "      <th>Item</th>\n",
       "      <th>Books &amp; supplies</th>\n",
       "      <th>Living</th>\n",
       "      <th>Personal</th>\n",
       "      <th>Transportation</th>\n",
       "      <th>Healthcare</th>\n",
       "      <th>Systemwide fees</th>\n",
       "      <th>Campus fees</th>\n",
       "      <th>TOTAL BUDGET</th>\n",
       "    </tr>\n",
       "  </thead>\n",
       "  <tbody>\n",
       "    <tr>\n",
       "      <th>Berkeley</th>\n",
       "      <td>1262</td>\n",
       "      <td>11966</td>\n",
       "      <td>1770</td>\n",
       "      <td>720</td>\n",
       "      <td>2612</td>\n",
       "      <td>12294</td>\n",
       "      <td>1214</td>\n",
       "      <td>31838</td>\n",
       "    </tr>\n",
       "    <tr>\n",
       "      <th>Davis</th>\n",
       "      <td>1601</td>\n",
       "      <td>9534</td>\n",
       "      <td>1904</td>\n",
       "      <td>1267</td>\n",
       "      <td>2292</td>\n",
       "      <td>12294</td>\n",
       "      <td>1752</td>\n",
       "      <td>30644</td>\n",
       "    </tr>\n",
       "    <tr>\n",
       "      <th>Irvine</th>\n",
       "      <td>1766</td>\n",
       "      <td>9677</td>\n",
       "      <td>1984</td>\n",
       "      <td>1440</td>\n",
       "      <td>1675</td>\n",
       "      <td>12294</td>\n",
       "      <td>1066</td>\n",
       "      <td>29902</td>\n",
       "    </tr>\n",
       "    <tr>\n",
       "      <th>Los Angeles</th>\n",
       "      <td>1636</td>\n",
       "      <td>12287</td>\n",
       "      <td>1794</td>\n",
       "      <td>921</td>\n",
       "      <td>2150</td>\n",
       "      <td>12294</td>\n",
       "      <td>626</td>\n",
       "      <td>31708</td>\n",
       "    </tr>\n",
       "    <tr>\n",
       "      <th>Merced</th>\n",
       "      <td>1444</td>\n",
       "      <td>10552</td>\n",
       "      <td>1877</td>\n",
       "      <td>1134</td>\n",
       "      <td>2271</td>\n",
       "      <td>12294</td>\n",
       "      <td>968</td>\n",
       "      <td>30540</td>\n",
       "    </tr>\n",
       "    <tr>\n",
       "      <th>Riverside</th>\n",
       "      <td>1716</td>\n",
       "      <td>10034</td>\n",
       "      <td>2008</td>\n",
       "      <td>1405</td>\n",
       "      <td>1629</td>\n",
       "      <td>12294</td>\n",
       "      <td>1287</td>\n",
       "      <td>30373</td>\n",
       "    </tr>\n",
       "    <tr>\n",
       "      <th>San Diego</th>\n",
       "      <td>1541</td>\n",
       "      <td>10826</td>\n",
       "      <td>1849</td>\n",
       "      <td>1259</td>\n",
       "      <td>2011</td>\n",
       "      <td>12294</td>\n",
       "      <td>1351</td>\n",
       "      <td>31131</td>\n",
       "    </tr>\n",
       "    <tr>\n",
       "      <th>Santa Barbara</th>\n",
       "      <td>1431</td>\n",
       "      <td>11703</td>\n",
       "      <td>1842</td>\n",
       "      <td>915</td>\n",
       "      <td>3150</td>\n",
       "      <td>12294</td>\n",
       "      <td>1778</td>\n",
       "      <td>33113</td>\n",
       "    </tr>\n",
       "    <tr>\n",
       "      <th>Santa Cruz</th>\n",
       "      <td>1470</td>\n",
       "      <td>12715</td>\n",
       "      <td>1768</td>\n",
       "      <td>934</td>\n",
       "      <td>2875</td>\n",
       "      <td>12294</td>\n",
       "      <td>1244</td>\n",
       "      <td>33300</td>\n",
       "    </tr>\n",
       "  </tbody>\n",
       "</table>\n",
       "</div>"
      ],
      "text/plain": [
       "Item           Books & supplies  Living  Personal  Transportation  Healthcare  \\\n",
       "Berkeley                   1262   11966      1770             720        2612   \n",
       "Davis                      1601    9534      1904            1267        2292   \n",
       "Irvine                     1766    9677      1984            1440        1675   \n",
       "Los Angeles                1636   12287      1794             921        2150   \n",
       "Merced                     1444   10552      1877            1134        2271   \n",
       "Riverside                  1716   10034      2008            1405        1629   \n",
       "San Diego                  1541   10826      1849            1259        2011   \n",
       "Santa Barbara              1431   11703      1842             915        3150   \n",
       "Santa Cruz                 1470   12715      1768             934        2875   \n",
       "\n",
       "Item           Systemwide fees  Campus fees  TOTAL BUDGET  \n",
       "Berkeley                 12294         1214         31838  \n",
       "Davis                    12294         1752         30644  \n",
       "Irvine                   12294         1066         29902  \n",
       "Los Angeles              12294          626         31708  \n",
       "Merced                   12294          968         30540  \n",
       "Riverside                12294         1287         30373  \n",
       "San Diego                12294         1351         31131  \n",
       "Santa Barbara            12294         1778         33113  \n",
       "Santa Cruz               12294         1244         33300  "
      ]
     },
     "execution_count": 12,
     "metadata": {},
     "output_type": "execute_result"
    }
   ],
   "source": [
    "df = pd.read_table(\"StudentBudget2016.tsv\", delimiter = '\\t')\n",
    "df = df[df[\"Type\"] == \"All Students\"]\n",
    "del df[\"Type\"]\n",
    "del df[\"Systemwide\"]\n",
    "\n",
    "df = df.set_index(\"Item\")\n",
    "df = df.transpose()\n",
    "#del df[\"TOTAL BUDGET\"]\n",
    "df"
   ]
  },
  {
   "cell_type": "code",
   "execution_count": 13,
   "metadata": {
    "collapsed": false,
    "scrolled": true
   },
   "outputs": [],
   "source": [
    "#basic matplotlib figure\n",
    "df.plot(kind=\"bar\")\n",
    "\n",
    "plt.show()\n",
    "#fig = plt.gcf()\n",
    "#py.iplot_mpl(fig)"
   ]
  },
  {
   "cell_type": "code",
   "execution_count": null,
   "metadata": {
    "collapsed": false,
    "scrolled": true
   },
   "outputs": [],
   "source": [
    "area = bk.Area(df)\n",
    "bk.show(area)"
   ]
  },
  {
   "cell_type": "code",
   "execution_count": null,
   "metadata": {
    "collapsed": true
   },
   "outputs": [],
   "source": []
  }
 ],
 "metadata": {
  "anaconda-cloud": {},
  "kernelspec": {
   "display_name": "Python 3",
   "language": "python",
   "name": "python3"
  },
  "language_info": {
   "codemirror_mode": {
    "name": "ipython",
    "version": 3
   },
   "file_extension": ".py",
   "mimetype": "text/x-python",
   "name": "python",
   "nbconvert_exporter": "python",
   "pygments_lexer": "ipython3",
   "version": "3.5.1"
  }
 },
 "nbformat": 4,
 "nbformat_minor": 0
}
